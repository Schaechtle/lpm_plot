{
 "cells": [
  {
   "cell_type": "code",
   "execution_count": 1,
   "id": "0b8bc289-992f-479e-8d44-417e867d7c89",
   "metadata": {},
   "outputs": [],
   "source": [
    "import polars as pl\n",
    "\n",
    "from lpm_plot import plot_fidelity"
   ]
  },
  {
   "cell_type": "code",
   "execution_count": 2,
   "id": "ffe6afc2-1add-477c-b9ff-5bcc53cbd77d",
   "metadata": {},
   "outputs": [],
   "source": [
    "# Make up some fake fidelity data.\n",
    "fidelity_data = pl.DataFrame([\n",
    "    {\"column-1\":\"total_score\",\"column-2\":\"sports_flg\",\"tvd\":0.001757401,\"model\":\"LPM\",\"index\":0},\n",
    "    {\"column-1\":\"terrace_flg\",\"column-2\":\"darts_flg\",\"tvd\":0.0018333333,\"model\":\"LPM\",\"index\":1},\n",
    "    {\"column-1\":\"total_score\",\"column-2\":\"live_flg\",\"tvd\":0.0020490196,\"model\":\"LPM\",\"index\":2},\n",
    "    {\"column-1\":\"total_score\",\"column-2\":\"closed\",\"tvd\":0.056201461,\"model\":\"LPM\",\"index\":35}\n",
    "])"
   ]
  },
  {
   "cell_type": "code",
   "execution_count": 3,
   "id": "d362368f-ca49-438b-9767-ef6e349e18c8",
   "metadata": {},
   "outputs": [
    {
     "data": {
      "text/html": [
       "\n",
       "<style>\n",
       "  #altair-viz-2b9efea828864effa15d73dc520cd074.vega-embed {\n",
       "    width: 100%;\n",
       "    display: flex;\n",
       "  }\n",
       "\n",
       "  #altair-viz-2b9efea828864effa15d73dc520cd074.vega-embed details,\n",
       "  #altair-viz-2b9efea828864effa15d73dc520cd074.vega-embed details summary {\n",
       "    position: relative;\n",
       "  }\n",
       "</style>\n",
       "<div id=\"altair-viz-2b9efea828864effa15d73dc520cd074\"></div>\n",
       "<script type=\"text/javascript\">\n",
       "  var VEGA_DEBUG = (typeof VEGA_DEBUG == \"undefined\") ? {} : VEGA_DEBUG;\n",
       "  (function(spec, embedOpt){\n",
       "    let outputDiv = document.currentScript.previousElementSibling;\n",
       "    if (outputDiv.id !== \"altair-viz-2b9efea828864effa15d73dc520cd074\") {\n",
       "      outputDiv = document.getElementById(\"altair-viz-2b9efea828864effa15d73dc520cd074\");\n",
       "    }\n",
       "    const paths = {\n",
       "      \"vega\": \"https://cdn.jsdelivr.net/npm/vega@5?noext\",\n",
       "      \"vega-lib\": \"https://cdn.jsdelivr.net/npm/vega-lib?noext\",\n",
       "      \"vega-lite\": \"https://cdn.jsdelivr.net/npm/vega-lite@5.20.1?noext\",\n",
       "      \"vega-embed\": \"https://cdn.jsdelivr.net/npm/vega-embed@6?noext\",\n",
       "    };\n",
       "\n",
       "    function maybeLoadScript(lib, version) {\n",
       "      var key = `${lib.replace(\"-\", \"\")}_version`;\n",
       "      return (VEGA_DEBUG[key] == version) ?\n",
       "        Promise.resolve(paths[lib]) :\n",
       "        new Promise(function(resolve, reject) {\n",
       "          var s = document.createElement('script');\n",
       "          document.getElementsByTagName(\"head\")[0].appendChild(s);\n",
       "          s.async = true;\n",
       "          s.onload = () => {\n",
       "            VEGA_DEBUG[key] = version;\n",
       "            return resolve(paths[lib]);\n",
       "          };\n",
       "          s.onerror = () => reject(`Error loading script: ${paths[lib]}`);\n",
       "          s.src = paths[lib];\n",
       "        });\n",
       "    }\n",
       "\n",
       "    function showError(err) {\n",
       "      outputDiv.innerHTML = `<div class=\"error\" style=\"color:red;\">${err}</div>`;\n",
       "      throw err;\n",
       "    }\n",
       "\n",
       "    function displayChart(vegaEmbed) {\n",
       "      vegaEmbed(outputDiv, spec, embedOpt)\n",
       "        .catch(err => showError(`Javascript Error: ${err.message}<br>This usually means there's a typo in your chart specification. See the javascript console for the full traceback.`));\n",
       "    }\n",
       "\n",
       "    if(typeof define === \"function\" && define.amd) {\n",
       "      requirejs.config({paths});\n",
       "      require([\"vega-embed\"], displayChart, err => showError(`Error loading script: ${err.message}`));\n",
       "    } else {\n",
       "      maybeLoadScript(\"vega\", \"5\")\n",
       "        .then(() => maybeLoadScript(\"vega-lite\", \"5.20.1\"))\n",
       "        .then(() => maybeLoadScript(\"vega-embed\", \"6\"))\n",
       "        .catch(showError)\n",
       "        .then(() => displayChart(vegaEmbed));\n",
       "    }\n",
       "  })({\"config\": {\"view\": {\"continuousWidth\": 300, \"continuousHeight\": 300}}, \"layer\": [{\"mark\": {\"type\": \"line\", \"strokeDash\": [5, 5]}, \"encoding\": {\"color\": {\"field\": \"model\", \"type\": \"nominal\"}, \"x\": {\"axis\": null, \"field\": \"index\", \"type\": \"ordinal\"}, \"y\": {\"field\": \"tvd\", \"title\": \"Total variation distance\", \"type\": \"quantitative\"}}}, {\"mark\": {\"type\": \"point\"}, \"encoding\": {\"color\": {\"field\": \"model\", \"type\": \"nominal\"}, \"tooltip\": [{\"field\": \"column-1\", \"title\": \"Column 1\", \"type\": \"nominal\"}, {\"field\": \"column-2\", \"title\": \"Column 2\", \"type\": \"nominal\"}], \"x\": {\"axis\": {\"labels\": false}, \"field\": \"index\", \"title\": \"Pairs of columns (ordered from best fit to worst)\", \"type\": \"ordinal\"}, \"y\": {\"field\": \"tvd\", \"type\": \"quantitative\"}}}], \"data\": {\"name\": \"data-7397a78c2d03a088ce5ee99bbed1e8bb\"}, \"height\": 400, \"width\": 400, \"$schema\": \"https://vega.github.io/schema/vega-lite/v5.20.1.json\", \"datasets\": {\"data-7397a78c2d03a088ce5ee99bbed1e8bb\": [{\"column-1\": \"total_score\", \"column-2\": \"sports_flg\", \"tvd\": 0.001757401, \"model\": \"LPM\", \"index\": 0}, {\"column-1\": \"terrace_flg\", \"column-2\": \"darts_flg\", \"tvd\": 0.0018333333, \"model\": \"LPM\", \"index\": 1}, {\"column-1\": \"total_score\", \"column-2\": \"live_flg\", \"tvd\": 0.0020490196, \"model\": \"LPM\", \"index\": 2}, {\"column-1\": \"total_score\", \"column-2\": \"closed\", \"tvd\": 0.056201461, \"model\": \"LPM\", \"index\": 35}]}}, {\"mode\": \"vega-lite\"});\n",
       "</script>"
      ],
      "text/plain": [
       "alt.LayerChart(...)"
      ]
     },
     "execution_count": 3,
     "metadata": {},
     "output_type": "execute_result"
    }
   ],
   "source": [
    "plot_fidelity(fidelity_data)"
   ]
  },
  {
   "cell_type": "code",
   "execution_count": null,
   "id": "bac9dd83-d263-44b0-9d72-4156f05835f6",
   "metadata": {},
   "outputs": [],
   "source": []
  }
 ],
 "metadata": {
  "kernelspec": {
   "display_name": "Python 3 (ipykernel)",
   "language": "python",
   "name": "python3"
  },
  "language_info": {
   "codemirror_mode": {
    "name": "ipython",
    "version": 3
   },
   "file_extension": ".py",
   "mimetype": "text/x-python",
   "name": "python",
   "nbconvert_exporter": "python",
   "pygments_lexer": "ipython3",
   "version": "3.12.6"
  }
 },
 "nbformat": 4,
 "nbformat_minor": 5
}
