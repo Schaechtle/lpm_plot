{
 "cells": [
  {
   "cell_type": "code",
   "execution_count": 138,
   "id": "761ec4da-d3e2-4024-aa5a-099f49c71536",
   "metadata": {},
   "outputs": [],
   "source": [
    "import polars as pl\n",
    "import altair as alt\n",
    "import random"
   ]
  },
  {
   "cell_type": "code",
   "execution_count": 139,
   "id": "9e8817e4-6432-47d3-b7ac-a1d97e7c251b",
   "metadata": {},
   "outputs": [],
   "source": [
    "eobs = {\n",
    "    \"date\": [\"2021-01-04\",\"2021-01-05\",\"2021-01-06\",\"2021-01-07\",\"2021-01-08\",\"2021-01-11\",\"2021-01-12\",\"2021-01-13\",\"2021-01-14\",\"2021-01-15\",\"2021-01-19\",\"2021-01-20\"],\n",
    "    \"vti\": [190.048508,191.583771,193.307281,196.407532,197.358429,196.179733,196.873093,197.091003,196.902817,195.189224,196.972137,199.458298],\n",
    "    \"vb\": [190.040939,192.759628,198.970963,202.255219,202.175842,202.175842,205.192230,203.961853,206.521790,203.763412,206.114990,207.365189]\n",
    "}\n",
    "esyn = {\n",
    "    \"date\": [\"2021-01-04\",\"2021-01-05\",\"2021-01-06\",\"2021-01-07\",\"2021-01-08\",\"2021-01-11\",\"2021-01-12\",\"2021-01-13\",\"2021-01-14\",\"2021-01-15\",\"2021-01-19\",\"2021-01-20\"],\n",
    "    \"vti\": [190.048508,191.583771,193.307281,196.407532,197.358429,196.179733,196.873093,197.091003,196.902817,195.189224,196.972137,199.458298],\n",
    "    \"vb\": [190.040939,192.759628,198.970963,202.255219,202.175842,202.175842,205.192230,203.961853,206.521790,203.763412,206.114990,207.365189]\n",
    "}\n",
    "odf = pl.DataFrame(eobs)\n",
    "sdf = pl.DataFrame(esyn)\n",
    "sdf = sdf.with_columns(pl.col('vti')+random.uniform(-2,2))\n",
    "sdf = sdf.with_columns(pl.col('vb')+random.uniform(-2,2))"
   ]
  },
  {
   "cell_type": "code",
   "execution_count": 140,
   "id": "c156a2f4-ed04-485e-8479-a383b3195693",
   "metadata": {},
   "outputs": [],
   "source": [
    "COLOR_OBSERVED = \"#000000\"\n",
    "COLOR_SYNTHETIC = \"#f28e2b\""
   ]
  },
  {
   "cell_type": "code",
   "execution_count": 141,
   "id": "e63d176b-8d90-417d-b2ce-b1303936437c",
   "metadata": {},
   "outputs": [],
   "source": [
    "def build_numerical_numerical_chart(df: pl.DataFrame,columns: list,color: str):\n",
    "    return alt.Chart(df.to_pandas()).mark_point(filled=True).encode(\n",
    "        x = alt.X(columns[0]+':Q',scale = alt.Scale(zero=False)),\n",
    "        y = alt.Y(columns[1]+':Q',scale = alt.Scale(zero=False)),\n",
    "        color = alt.ColorValue(color)\n",
    "    )"
   ]
  },
  {
   "cell_type": "code",
   "execution_count": 142,
   "id": "c5a6ac19-e034-4a1b-a0e6-329353ec3596",
   "metadata": {},
   "outputs": [],
   "source": [
    "def plot_2d_numerical_numerical_comparison(observed: pl.DataFrame,synthetic: pl.DataFrame,columns: list):\n",
    "    assert len(columns) == 2, \"2d plot requires selection of exactly two columns\"\n",
    "        \n",
    "    observed = observed[columns].with_columns(pl.lit(\"observed\").alias(\"plot_data_source\"))\n",
    "    synthetic = synthetic[columns].with_columns(pl.lit(\"synthetic\").alias(\"plot_data_source\"))\n",
    "    combined = pl.concat([observed,synthetic])\n",
    "\n",
    "    oplot = build_numerical_numerical_chart(combined,columns,COLOR_OBSERVED).transform_filter(alt.datum.plot_data_source == \"observed\")\n",
    "    splot = build_numerical_numerical_chart(combined,columns,COLOR_SYNTHETIC).transform_filter(alt.datum.plot_data_source == \"synthetic\")\n",
    "    return oplot+splot"
   ]
  },
  {
   "cell_type": "code",
   "execution_count": 143,
   "id": "71029c8c-7327-4c43-8634-da0f7389cccb",
   "metadata": {},
   "outputs": [],
   "source": [
    "def plot_2d_numerical_numerical_comparisons(observed: pl.DataFrame,synthetic: pl.DataFrame,pairs: list):\n",
    "    assert len(pairs) > 1\n",
    "    for c in set([x for xs in pairs for x in xs]):\n",
    "        assert c in observed.columns, f\"Column '{c}' not in observed data\"\n",
    "        assert c in synthetic.columns, f\"Column '{c}' not in synthetic data\"\n",
    "    plots = [plot_2d_numerical_numerical_comparison(observed,synthetic,p) for p in pairs]\n",
    "    page = (alt.vconcat(*plots).resolve_scale(color=\"independent\").properties(title='2-D Marginals'))\n",
    "    return page"
   ]
  },
  {
   "cell_type": "code",
   "execution_count": 144,
   "id": "e1512eea-2916-44b7-bcf2-5d00dea0c185",
   "metadata": {},
   "outputs": [
    {
     "data": {
      "text/html": [
       "\n",
       "<style>\n",
       "  #altair-viz-7fec3d17bed44229883e7a154190cd5b.vega-embed {\n",
       "    width: 100%;\n",
       "    display: flex;\n",
       "  }\n",
       "\n",
       "  #altair-viz-7fec3d17bed44229883e7a154190cd5b.vega-embed details,\n",
       "  #altair-viz-7fec3d17bed44229883e7a154190cd5b.vega-embed details summary {\n",
       "    position: relative;\n",
       "  }\n",
       "</style>\n",
       "<div id=\"altair-viz-7fec3d17bed44229883e7a154190cd5b\"></div>\n",
       "<script type=\"text/javascript\">\n",
       "  var VEGA_DEBUG = (typeof VEGA_DEBUG == \"undefined\") ? {} : VEGA_DEBUG;\n",
       "  (function(spec, embedOpt){\n",
       "    let outputDiv = document.currentScript.previousElementSibling;\n",
       "    if (outputDiv.id !== \"altair-viz-7fec3d17bed44229883e7a154190cd5b\") {\n",
       "      outputDiv = document.getElementById(\"altair-viz-7fec3d17bed44229883e7a154190cd5b\");\n",
       "    }\n",
       "    const paths = {\n",
       "      \"vega\": \"https://cdn.jsdelivr.net/npm/vega@5?noext\",\n",
       "      \"vega-lib\": \"https://cdn.jsdelivr.net/npm/vega-lib?noext\",\n",
       "      \"vega-lite\": \"https://cdn.jsdelivr.net/npm/vega-lite@5.20.1?noext\",\n",
       "      \"vega-embed\": \"https://cdn.jsdelivr.net/npm/vega-embed@6?noext\",\n",
       "    };\n",
       "\n",
       "    function maybeLoadScript(lib, version) {\n",
       "      var key = `${lib.replace(\"-\", \"\")}_version`;\n",
       "      return (VEGA_DEBUG[key] == version) ?\n",
       "        Promise.resolve(paths[lib]) :\n",
       "        new Promise(function(resolve, reject) {\n",
       "          var s = document.createElement('script');\n",
       "          document.getElementsByTagName(\"head\")[0].appendChild(s);\n",
       "          s.async = true;\n",
       "          s.onload = () => {\n",
       "            VEGA_DEBUG[key] = version;\n",
       "            return resolve(paths[lib]);\n",
       "          };\n",
       "          s.onerror = () => reject(`Error loading script: ${paths[lib]}`);\n",
       "          s.src = paths[lib];\n",
       "        });\n",
       "    }\n",
       "\n",
       "    function showError(err) {\n",
       "      outputDiv.innerHTML = `<div class=\"error\" style=\"color:red;\">${err}</div>`;\n",
       "      throw err;\n",
       "    }\n",
       "\n",
       "    function displayChart(vegaEmbed) {\n",
       "      vegaEmbed(outputDiv, spec, embedOpt)\n",
       "        .catch(err => showError(`Javascript Error: ${err.message}<br>This usually means there's a typo in your chart specification. See the javascript console for the full traceback.`));\n",
       "    }\n",
       "\n",
       "    if(typeof define === \"function\" && define.amd) {\n",
       "      requirejs.config({paths});\n",
       "      require([\"vega-embed\"], displayChart, err => showError(`Error loading script: ${err.message}`));\n",
       "    } else {\n",
       "      maybeLoadScript(\"vega\", \"5\")\n",
       "        .then(() => maybeLoadScript(\"vega-lite\", \"5.20.1\"))\n",
       "        .then(() => maybeLoadScript(\"vega-embed\", \"6\"))\n",
       "        .catch(showError)\n",
       "        .then(() => displayChart(vegaEmbed));\n",
       "    }\n",
       "  })({\"config\": {\"view\": {\"continuousWidth\": 300, \"continuousHeight\": 300}}, \"vconcat\": [{\"layer\": [{\"data\": {\"name\": \"data-157a7c305ae7753e99e5fdef3a44782a\"}, \"mark\": {\"type\": \"point\", \"filled\": true}, \"encoding\": {\"color\": {\"value\": \"#000000\"}, \"x\": {\"field\": \"vti\", \"scale\": {\"zero\": false}, \"type\": \"quantitative\"}, \"y\": {\"field\": \"vb\", \"scale\": {\"zero\": false}, \"type\": \"quantitative\"}}, \"transform\": [{\"filter\": \"(datum.plot_data_source === 'observed')\"}]}, {\"data\": {\"name\": \"data-157a7c305ae7753e99e5fdef3a44782a\"}, \"mark\": {\"type\": \"point\", \"filled\": true}, \"encoding\": {\"color\": {\"value\": \"#f28e2b\"}, \"x\": {\"field\": \"vti\", \"scale\": {\"zero\": false}, \"type\": \"quantitative\"}, \"y\": {\"field\": \"vb\", \"scale\": {\"zero\": false}, \"type\": \"quantitative\"}}, \"transform\": [{\"filter\": \"(datum.plot_data_source === 'synthetic')\"}]}]}, {\"layer\": [{\"data\": {\"name\": \"data-157a7c305ae7753e99e5fdef3a44782a\"}, \"mark\": {\"type\": \"point\", \"filled\": true}, \"encoding\": {\"color\": {\"value\": \"#000000\"}, \"x\": {\"field\": \"vb\", \"scale\": {\"zero\": false}, \"type\": \"quantitative\"}, \"y\": {\"field\": \"vti\", \"scale\": {\"zero\": false}, \"type\": \"quantitative\"}}, \"transform\": [{\"filter\": \"(datum.plot_data_source === 'observed')\"}]}, {\"data\": {\"name\": \"data-157a7c305ae7753e99e5fdef3a44782a\"}, \"mark\": {\"type\": \"point\", \"filled\": true}, \"encoding\": {\"color\": {\"value\": \"#f28e2b\"}, \"x\": {\"field\": \"vb\", \"scale\": {\"zero\": false}, \"type\": \"quantitative\"}, \"y\": {\"field\": \"vti\", \"scale\": {\"zero\": false}, \"type\": \"quantitative\"}}, \"transform\": [{\"filter\": \"(datum.plot_data_source === 'synthetic')\"}]}]}], \"resolve\": {\"scale\": {\"color\": \"independent\"}}, \"title\": \"2-D Marginals\", \"$schema\": \"https://vega.github.io/schema/vega-lite/v5.20.1.json\", \"datasets\": {\"data-157a7c305ae7753e99e5fdef3a44782a\": [{\"vb\": 190.040939, \"vti\": 190.048508, \"plot_data_source\": \"observed\"}, {\"vb\": 192.759628, \"vti\": 191.583771, \"plot_data_source\": \"observed\"}, {\"vb\": 198.970963, \"vti\": 193.307281, \"plot_data_source\": \"observed\"}, {\"vb\": 202.255219, \"vti\": 196.407532, \"plot_data_source\": \"observed\"}, {\"vb\": 202.175842, \"vti\": 197.358429, \"plot_data_source\": \"observed\"}, {\"vb\": 202.175842, \"vti\": 196.179733, \"plot_data_source\": \"observed\"}, {\"vb\": 205.19223, \"vti\": 196.873093, \"plot_data_source\": \"observed\"}, {\"vb\": 203.961853, \"vti\": 197.091003, \"plot_data_source\": \"observed\"}, {\"vb\": 206.52179, \"vti\": 196.902817, \"plot_data_source\": \"observed\"}, {\"vb\": 203.763412, \"vti\": 195.189224, \"plot_data_source\": \"observed\"}, {\"vb\": 206.11499, \"vti\": 196.972137, \"plot_data_source\": \"observed\"}, {\"vb\": 207.365189, \"vti\": 199.458298, \"plot_data_source\": \"observed\"}, {\"vb\": 190.43687284895046, \"vti\": 189.83536371000721, \"plot_data_source\": \"synthetic\"}, {\"vb\": 193.15556184895044, \"vti\": 191.37062671000723, \"plot_data_source\": \"synthetic\"}, {\"vb\": 199.36689684895046, \"vti\": 193.0941367100072, \"plot_data_source\": \"synthetic\"}, {\"vb\": 202.65115284895046, \"vti\": 196.19438771000722, \"plot_data_source\": \"synthetic\"}, {\"vb\": 202.57177584895044, \"vti\": 197.14528471000722, \"plot_data_source\": \"synthetic\"}, {\"vb\": 202.57177584895044, \"vti\": 195.96658871000722, \"plot_data_source\": \"synthetic\"}, {\"vb\": 205.58816384895044, \"vti\": 196.65994871000723, \"plot_data_source\": \"synthetic\"}, {\"vb\": 204.35778684895044, \"vti\": 196.87785871000722, \"plot_data_source\": \"synthetic\"}, {\"vb\": 206.91772384895046, \"vti\": 196.68967271000722, \"plot_data_source\": \"synthetic\"}, {\"vb\": 204.15934584895044, \"vti\": 194.9760797100072, \"plot_data_source\": \"synthetic\"}, {\"vb\": 206.51092384895045, \"vti\": 196.75899271000722, \"plot_data_source\": \"synthetic\"}, {\"vb\": 207.76112284895044, \"vti\": 199.24515371000723, \"plot_data_source\": \"synthetic\"}]}}, {\"mode\": \"vega-lite\"});\n",
       "</script>"
      ],
      "text/plain": [
       "alt.VConcatChart(...)"
      ]
     },
     "execution_count": 144,
     "metadata": {},
     "output_type": "execute_result"
    }
   ],
   "source": [
    "plot_2d_numerical_numerical_comparisons(odf,sdf,[['vti','vb'],['vb','vti']])"
   ]
  }
 ],
 "metadata": {
  "kernelspec": {
   "display_name": "Python 3 (ipykernel)",
   "language": "python",
   "name": "python3"
  },
  "language_info": {
   "codemirror_mode": {
    "name": "ipython",
    "version": 3
   },
   "file_extension": ".py",
   "mimetype": "text/x-python",
   "name": "python",
   "nbconvert_exporter": "python",
   "pygments_lexer": "ipython3",
   "version": "3.12.6"
  }
 },
 "nbformat": 4,
 "nbformat_minor": 5
}
