{
 "cells": [
  {
   "cell_type": "code",
   "execution_count": 120,
   "id": "761ec4da-d3e2-4024-aa5a-099f49c71536",
   "metadata": {},
   "outputs": [],
   "source": [
    "import polars as pl\n",
    "import altair as alt\n",
    "import random"
   ]
  },
  {
   "cell_type": "code",
   "execution_count": 121,
   "id": "9e8817e4-6432-47d3-b7ac-a1d97e7c251b",
   "metadata": {},
   "outputs": [],
   "source": [
    "eobs = {\n",
    "    \"date\": [\"2021-01-04\",\"2021-01-05\",\"2021-01-06\",\"2021-01-07\",\"2021-01-08\",\"2021-01-11\",\"2021-01-12\",\"2021-01-13\",\"2021-01-14\",\"2021-01-15\",\"2021-01-19\",\"2021-01-20\"],\n",
    "    \"vti\": [190.048508,191.583771,193.307281,196.407532,197.358429,196.179733,196.873093,197.091003,196.902817,195.189224,196.972137,199.458298],\n",
    "    \"vb\": [190.040939,192.759628,198.970963,202.255219,202.175842,202.175842,205.192230,203.961853,206.521790,203.763412,206.114990,207.365189]\n",
    "}\n",
    "esyn = {\n",
    "    \"date\": [\"2021-01-04\",\"2021-01-05\",\"2021-01-06\",\"2021-01-07\",\"2021-01-08\",\"2021-01-11\",\"2021-01-12\",\"2021-01-13\",\"2021-01-14\",\"2021-01-15\",\"2021-01-19\",\"2021-01-20\"],\n",
    "    \"vti\": [190.048508,191.583771,193.307281,196.407532,197.358429,196.179733,196.873093,197.091003,196.902817,195.189224,196.972137,199.458298],\n",
    "    \"vb\": [190.040939,192.759628,198.970963,202.255219,202.175842,202.175842,205.192230,203.961853,206.521790,203.763412,206.114990,207.365189]\n",
    "}\n",
    "odf = pl.DataFrame(eobs)\n",
    "sdf = pl.DataFrame(esyn)\n",
    "sdf = sdf.with_columns(pl.col('vti')+random.uniform(-2,2))\n",
    "sdf = sdf.with_columns(pl.col('vb')+random.uniform(-2,2))"
   ]
  },
  {
   "cell_type": "code",
   "execution_count": 122,
   "id": "c156a2f4-ed04-485e-8479-a383b3195693",
   "metadata": {},
   "outputs": [],
   "source": [
    "COLOR_OBSERVED = \"#000000\"\n",
    "COLOR_SYNTHETIC = \"#f28e2b\""
   ]
  },
  {
   "cell_type": "code",
   "execution_count": 123,
   "id": "e63d176b-8d90-417d-b2ce-b1303936437c",
   "metadata": {},
   "outputs": [],
   "source": [
    "def build_numerical_numerical_chart(df: pl.DataFrame,columns: list,color: str):\n",
    "    return alt.Chart(df.to_pandas()).mark_point(filled=True).encode(\n",
    "        x = alt.X(columns[0]+':Q',scale = alt.Scale(zero=False)),\n",
    "        y = alt.Y(columns[1]+':Q',scale = alt.Scale(zero=False)),\n",
    "        color = alt.ColorValue(color)\n",
    "    )"
   ]
  },
  {
   "cell_type": "code",
   "execution_count": 124,
   "id": "c5a6ac19-e034-4a1b-a0e6-329353ec3596",
   "metadata": {},
   "outputs": [
    {
     "data": {
      "text/html": [
       "\n",
       "<style>\n",
       "  #altair-viz-0b3836ad0e024cf0824b84097d078a64.vega-embed {\n",
       "    width: 100%;\n",
       "    display: flex;\n",
       "  }\n",
       "\n",
       "  #altair-viz-0b3836ad0e024cf0824b84097d078a64.vega-embed details,\n",
       "  #altair-viz-0b3836ad0e024cf0824b84097d078a64.vega-embed details summary {\n",
       "    position: relative;\n",
       "  }\n",
       "</style>\n",
       "<div id=\"altair-viz-0b3836ad0e024cf0824b84097d078a64\"></div>\n",
       "<script type=\"text/javascript\">\n",
       "  var VEGA_DEBUG = (typeof VEGA_DEBUG == \"undefined\") ? {} : VEGA_DEBUG;\n",
       "  (function(spec, embedOpt){\n",
       "    let outputDiv = document.currentScript.previousElementSibling;\n",
       "    if (outputDiv.id !== \"altair-viz-0b3836ad0e024cf0824b84097d078a64\") {\n",
       "      outputDiv = document.getElementById(\"altair-viz-0b3836ad0e024cf0824b84097d078a64\");\n",
       "    }\n",
       "    const paths = {\n",
       "      \"vega\": \"https://cdn.jsdelivr.net/npm/vega@5?noext\",\n",
       "      \"vega-lib\": \"https://cdn.jsdelivr.net/npm/vega-lib?noext\",\n",
       "      \"vega-lite\": \"https://cdn.jsdelivr.net/npm/vega-lite@5.20.1?noext\",\n",
       "      \"vega-embed\": \"https://cdn.jsdelivr.net/npm/vega-embed@6?noext\",\n",
       "    };\n",
       "\n",
       "    function maybeLoadScript(lib, version) {\n",
       "      var key = `${lib.replace(\"-\", \"\")}_version`;\n",
       "      return (VEGA_DEBUG[key] == version) ?\n",
       "        Promise.resolve(paths[lib]) :\n",
       "        new Promise(function(resolve, reject) {\n",
       "          var s = document.createElement('script');\n",
       "          document.getElementsByTagName(\"head\")[0].appendChild(s);\n",
       "          s.async = true;\n",
       "          s.onload = () => {\n",
       "            VEGA_DEBUG[key] = version;\n",
       "            return resolve(paths[lib]);\n",
       "          };\n",
       "          s.onerror = () => reject(`Error loading script: ${paths[lib]}`);\n",
       "          s.src = paths[lib];\n",
       "        });\n",
       "    }\n",
       "\n",
       "    function showError(err) {\n",
       "      outputDiv.innerHTML = `<div class=\"error\" style=\"color:red;\">${err}</div>`;\n",
       "      throw err;\n",
       "    }\n",
       "\n",
       "    function displayChart(vegaEmbed) {\n",
       "      vegaEmbed(outputDiv, spec, embedOpt)\n",
       "        .catch(err => showError(`Javascript Error: ${err.message}<br>This usually means there's a typo in your chart specification. See the javascript console for the full traceback.`));\n",
       "    }\n",
       "\n",
       "    if(typeof define === \"function\" && define.amd) {\n",
       "      requirejs.config({paths});\n",
       "      require([\"vega-embed\"], displayChart, err => showError(`Error loading script: ${err.message}`));\n",
       "    } else {\n",
       "      maybeLoadScript(\"vega\", \"5\")\n",
       "        .then(() => maybeLoadScript(\"vega-lite\", \"5.20.1\"))\n",
       "        .then(() => maybeLoadScript(\"vega-embed\", \"6\"))\n",
       "        .catch(showError)\n",
       "        .then(() => displayChart(vegaEmbed));\n",
       "    }\n",
       "  })({\"config\": {\"view\": {\"continuousWidth\": 300, \"continuousHeight\": 300}}, \"layer\": [{\"data\": {\"name\": \"data-f43a84c0a4ab9854977e9b2e926a4803\"}, \"mark\": {\"type\": \"point\", \"filled\": true}, \"encoding\": {\"color\": {\"value\": \"#000000\"}, \"x\": {\"field\": \"vti\", \"scale\": {\"zero\": false}, \"type\": \"quantitative\"}, \"y\": {\"field\": \"vb\", \"scale\": {\"zero\": false}, \"type\": \"quantitative\"}}, \"transform\": [{\"filter\": \"(datum.plot_data_source === 'observed')\"}]}, {\"data\": {\"name\": \"data-f43a84c0a4ab9854977e9b2e926a4803\"}, \"mark\": {\"type\": \"point\", \"filled\": true}, \"encoding\": {\"color\": {\"value\": \"#f28e2b\"}, \"x\": {\"field\": \"vti\", \"scale\": {\"zero\": false}, \"type\": \"quantitative\"}, \"y\": {\"field\": \"vb\", \"scale\": {\"zero\": false}, \"type\": \"quantitative\"}}, \"transform\": [{\"filter\": \"(datum.plot_data_source === 'synthetic')\"}]}], \"$schema\": \"https://vega.github.io/schema/vega-lite/v5.20.1.json\", \"datasets\": {\"data-f43a84c0a4ab9854977e9b2e926a4803\": [{\"vti\": 190.048508, \"vb\": 190.040939, \"plot_data_source\": \"observed\"}, {\"vti\": 191.583771, \"vb\": 192.759628, \"plot_data_source\": \"observed\"}, {\"vti\": 193.307281, \"vb\": 198.970963, \"plot_data_source\": \"observed\"}, {\"vti\": 196.407532, \"vb\": 202.255219, \"plot_data_source\": \"observed\"}, {\"vti\": 197.358429, \"vb\": 202.175842, \"plot_data_source\": \"observed\"}, {\"vti\": 196.179733, \"vb\": 202.175842, \"plot_data_source\": \"observed\"}, {\"vti\": 196.873093, \"vb\": 205.19223, \"plot_data_source\": \"observed\"}, {\"vti\": 197.091003, \"vb\": 203.961853, \"plot_data_source\": \"observed\"}, {\"vti\": 196.902817, \"vb\": 206.52179, \"plot_data_source\": \"observed\"}, {\"vti\": 195.189224, \"vb\": 203.763412, \"plot_data_source\": \"observed\"}, {\"vti\": 196.972137, \"vb\": 206.11499, \"plot_data_source\": \"observed\"}, {\"vti\": 199.458298, \"vb\": 207.365189, \"plot_data_source\": \"observed\"}, {\"vti\": 190.2034276150887, \"vb\": 188.66972921669642, \"plot_data_source\": \"synthetic\"}, {\"vti\": 191.73869061508873, \"vb\": 191.3884182166964, \"plot_data_source\": \"synthetic\"}, {\"vti\": 193.4622006150887, \"vb\": 197.59975321669643, \"plot_data_source\": \"synthetic\"}, {\"vti\": 196.56245161508872, \"vb\": 200.88400921669643, \"plot_data_source\": \"synthetic\"}, {\"vti\": 197.51334861508872, \"vb\": 200.8046322166964, \"plot_data_source\": \"synthetic\"}, {\"vti\": 196.33465261508871, \"vb\": 200.8046322166964, \"plot_data_source\": \"synthetic\"}, {\"vti\": 197.02801261508873, \"vb\": 203.8210202166964, \"plot_data_source\": \"synthetic\"}, {\"vti\": 197.24592261508872, \"vb\": 202.5906432166964, \"plot_data_source\": \"synthetic\"}, {\"vti\": 197.05773661508871, \"vb\": 205.15058021669643, \"plot_data_source\": \"synthetic\"}, {\"vti\": 195.3441436150887, \"vb\": 202.3922022166964, \"plot_data_source\": \"synthetic\"}, {\"vti\": 197.12705661508872, \"vb\": 204.74378021669642, \"plot_data_source\": \"synthetic\"}, {\"vti\": 199.61321761508873, \"vb\": 205.9939792166964, \"plot_data_source\": \"synthetic\"}]}}, {\"mode\": \"vega-lite\"});\n",
       "</script>"
      ],
      "text/plain": [
       "alt.LayerChart(...)"
      ]
     },
     "execution_count": 124,
     "metadata": {},
     "output_type": "execute_result"
    }
   ],
   "source": [
    "def plot_2d_numerical_numerical_comparison(observed: pl.DataFrame,synthetic: pl.DataFrame,columns: list):\n",
    "    assert len(columns) == 2, \"2d plot requires selection of exactly two columns\"\n",
    "    for c in columns:\n",
    "        assert c in observed.columns, f\"Column '{c}' not in observed data\"\n",
    "        assert c in synthetic.columns, f\"Column '{c}' not in synthetic data\"\n",
    "        \n",
    "    observed = observed[columns].with_columns(pl.lit(\"observed\").alias(\"plot_data_source\"))\n",
    "    synthetic = synthetic[columns].with_columns(pl.lit(\"synthetic\").alias(\"plot_data_source\"))\n",
    "    combined = pl.concat([observed,synthetic])\n",
    "\n",
    "    oplot = build_numerical_numerical_chart(combined,columns,COLOR_OBSERVED).transform_filter(alt.datum.plot_data_source == \"observed\")\n",
    "    splot = build_numerical_numerical_chart(combined,columns,COLOR_SYNTHETIC).transform_filter(alt.datum.plot_data_source == \"synthetic\")\n",
    "    return oplot+splot\n",
    "\n",
    "plot_2d_numerical_numerical_comparison(odf,sdf,['vti','vb'])\n"
   ]
  }
 ],
 "metadata": {
  "kernelspec": {
   "display_name": "Python 3 (ipykernel)",
   "language": "python",
   "name": "python3"
  },
  "language_info": {
   "codemirror_mode": {
    "name": "ipython",
    "version": 3
   },
   "file_extension": ".py",
   "mimetype": "text/x-python",
   "name": "python",
   "nbconvert_exporter": "python",
   "pygments_lexer": "ipython3",
   "version": "3.12.6"
  }
 },
 "nbformat": 4,
 "nbformat_minor": 5
}
