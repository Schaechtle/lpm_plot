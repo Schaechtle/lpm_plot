{
 "cells": [
  {
   "cell_type": "code",
   "execution_count": 15,
   "id": "761ec4da-d3e2-4024-aa5a-099f49c71536",
   "metadata": {},
   "outputs": [],
   "source": [
    "import polars as pl\n",
    "import altair as alt\n",
    "import random             # Only needed for the test data\n",
    "import copy               # Only needed for the test data"
   ]
  },
  {
   "cell_type": "code",
   "execution_count": 16,
   "id": "9e8817e4-6432-47d3-b7ac-a1d97e7c251b",
   "metadata": {},
   "outputs": [],
   "source": [
    "# This is just some test data to play with\n",
    "eobs = {\n",
    "    \"date\": [\"2021-01-04\",\"2021-01-05\",\"2021-01-06\",\"2021-01-07\",\"2021-01-08\",\"2021-01-11\",\"2021-01-12\",\"2021-01-13\",\"2021-01-14\",\"2021-01-15\",\"2021-01-19\",\"2021-01-20\"],\n",
    "    \"vti\": [190.048508,191.583771,193.307281,196.407532,197.358429,196.179733,196.873093,197.091003,196.902817,195.189224,196.972137,199.458298],\n",
    "    \"vb\": [190.040939,192.759628,198.970963,202.255219,202.175842,202.175842,205.192230,203.961853,206.521790,203.763412,206.114990,207.365189],\n",
    "    \"ca\": [200,50,247,23,139,166,176,110,168,14,229,207],\n",
    "    \"cb\": [168,133,171,117,134,132,248,8,161,13,168,133],\n",
    "    \"na\": ['C3','D2','B0','D3','F0','D2','F3','B0','E0','C2','D0','A2'],\n",
    "    \"nb\": ['C1','A0','D3','A3','E0','E3','D0','H1','B1','E1','E0','A3'],\n",
    "    \"ba\": ['yes','yes','yes','yes','yes','yes','no','no','yes','yes','yes','no'],\n",
    "    \"bb\": ['no','no','no','yes','no','no','no','yes','yes','no','yes','no'],\n",
    "}\n",
    "esyn = copy.deepcopy(eobs)\n",
    "odf = pl.DataFrame(eobs)\n",
    "sdf = pl.DataFrame(esyn)\n",
    "sdf = sdf.with_columns(pl.col('vti')+random.uniform(-2,2))      # Just shift it a bit\n",
    "sdf = sdf.with_columns(pl.col('vb')+random.uniform(-2,2))       # Just shift it a bit\n",
    "sdf = sdf.with_columns(pl.col('ca')+int(random.uniform(-6,6)))  # Just shift it a bit\n",
    "sdf = sdf.with_columns(pl.col('cb')+int(random.uniform(-6,6)))  # Just shift it a bit"
   ]
  },
  {
   "cell_type": "code",
   "execution_count": 17,
   "id": "c156a2f4-ed04-485e-8479-a383b3195693",
   "metadata": {},
   "outputs": [],
   "source": [
    "COLOR_OBSERVED = \"#000000\"\n",
    "COLOR_SYNTHETIC = \"#f28e2b\""
   ]
  },
  {
   "cell_type": "code",
   "execution_count": 18,
   "id": "e63d176b-8d90-417d-b2ce-b1303936437c",
   "metadata": {},
   "outputs": [],
   "source": [
    "def build_chart_numerical_numerical(df: pl.DataFrame,columns: list,color: str):\n",
    "    \"\"\"\n",
    "    Build a single chart pane that does a 2D scatterplot of two columns,\n",
    "    with the first column (column[0]) on the X axis and the second on the\n",
    "    Y axis. This seems to work for both numerical and categorical data as\n",
    "    long as the data for categoricals in the DataFrame are the numercial\n",
    "    frequency counts for each possible categorical value.\n",
    "\n",
    "    Points are plotted in the given color.\n",
    "    \"\"\"\n",
    "    return alt.Chart(df.to_pandas()).mark_point(filled=True).encode(\n",
    "        x = alt.X(f\"{columns[0]}:Q\",scale = alt.Scale(zero=False)),\n",
    "        y = alt.Y(f\"{columns[1]}:Q\",scale = alt.Scale(zero=False)),\n",
    "        color = alt.ColorValue(color)\n",
    "    )"
   ]
  },
  {
   "cell_type": "code",
   "execution_count": 19,
   "id": "c5a6ac19-e034-4a1b-a0e6-329353ec3596",
   "metadata": {},
   "outputs": [],
   "source": [
    "def plot_comparison_2d_numerical_numerical(observed: pl.DataFrame,synthetic: pl.DataFrame,columns: list):\n",
    "    \"\"\"\n",
    "    \"\"\"\n",
    "    assert len(columns) == 2, \"2d plot requires selection of exactly two columns\"\n",
    "    observed = observed[columns].with_columns(pl.lit(\"observed\").alias(\"plot_data_source\"))\n",
    "    synthetic = synthetic[columns].with_columns(pl.lit(\"synthetic\").alias(\"plot_data_source\"))\n",
    "    combined = pl.concat([observed,synthetic])\n",
    "    oplot = build_chart_numerical_numerical(combined,columns,COLOR_OBSERVED).transform_filter(alt.datum.plot_data_source == \"observed\")\n",
    "    splot = build_chart_numerical_numerical(combined,columns,COLOR_SYNTHETIC).transform_filter(alt.datum.plot_data_source == \"synthetic\")\n",
    "    return oplot+splot"
   ]
  },
  {
   "cell_type": "code",
   "execution_count": 20,
   "id": "71029c8c-7327-4c43-8634-da0f7389cccb",
   "metadata": {},
   "outputs": [],
   "source": [
    "def plot_comparisons_2d_numerical_numerical(observed: pl.DataFrame,synthetic: pl.DataFrame,pairs: list):\n",
    "    \"\"\"\n",
    "    \"\"\"\n",
    "    assert len(pairs) > 1\n",
    "    for c in set([x for xs in pairs for x in xs]):\n",
    "        assert c in observed.columns, f\"Column '{c}' not in observed data\"\n",
    "        assert c in synthetic.columns, f\"Column '{c}' not in synthetic data\"\n",
    "    plots = [plot_comparison_2d_numerical_numerical(observed,synthetic,p) for p in pairs]\n",
    "    return (alt.vconcat(*plots).resolve_scale(color=\"independent\").properties(title='2-D Marginals'))"
   ]
  },
  {
   "cell_type": "code",
   "execution_count": 21,
   "id": "e1512eea-2916-44b7-bcf2-5d00dea0c185",
   "metadata": {},
   "outputs": [
    {
     "data": {
      "text/html": [
       "\n",
       "<style>\n",
       "  #altair-viz-be13fcc2bee446699c40cee71b0108c8.vega-embed {\n",
       "    width: 100%;\n",
       "    display: flex;\n",
       "  }\n",
       "\n",
       "  #altair-viz-be13fcc2bee446699c40cee71b0108c8.vega-embed details,\n",
       "  #altair-viz-be13fcc2bee446699c40cee71b0108c8.vega-embed details summary {\n",
       "    position: relative;\n",
       "  }\n",
       "</style>\n",
       "<div id=\"altair-viz-be13fcc2bee446699c40cee71b0108c8\"></div>\n",
       "<script type=\"text/javascript\">\n",
       "  var VEGA_DEBUG = (typeof VEGA_DEBUG == \"undefined\") ? {} : VEGA_DEBUG;\n",
       "  (function(spec, embedOpt){\n",
       "    let outputDiv = document.currentScript.previousElementSibling;\n",
       "    if (outputDiv.id !== \"altair-viz-be13fcc2bee446699c40cee71b0108c8\") {\n",
       "      outputDiv = document.getElementById(\"altair-viz-be13fcc2bee446699c40cee71b0108c8\");\n",
       "    }\n",
       "    const paths = {\n",
       "      \"vega\": \"https://cdn.jsdelivr.net/npm/vega@5?noext\",\n",
       "      \"vega-lib\": \"https://cdn.jsdelivr.net/npm/vega-lib?noext\",\n",
       "      \"vega-lite\": \"https://cdn.jsdelivr.net/npm/vega-lite@5.20.1?noext\",\n",
       "      \"vega-embed\": \"https://cdn.jsdelivr.net/npm/vega-embed@6?noext\",\n",
       "    };\n",
       "\n",
       "    function maybeLoadScript(lib, version) {\n",
       "      var key = `${lib.replace(\"-\", \"\")}_version`;\n",
       "      return (VEGA_DEBUG[key] == version) ?\n",
       "        Promise.resolve(paths[lib]) :\n",
       "        new Promise(function(resolve, reject) {\n",
       "          var s = document.createElement('script');\n",
       "          document.getElementsByTagName(\"head\")[0].appendChild(s);\n",
       "          s.async = true;\n",
       "          s.onload = () => {\n",
       "            VEGA_DEBUG[key] = version;\n",
       "            return resolve(paths[lib]);\n",
       "          };\n",
       "          s.onerror = () => reject(`Error loading script: ${paths[lib]}`);\n",
       "          s.src = paths[lib];\n",
       "        });\n",
       "    }\n",
       "\n",
       "    function showError(err) {\n",
       "      outputDiv.innerHTML = `<div class=\"error\" style=\"color:red;\">${err}</div>`;\n",
       "      throw err;\n",
       "    }\n",
       "\n",
       "    function displayChart(vegaEmbed) {\n",
       "      vegaEmbed(outputDiv, spec, embedOpt)\n",
       "        .catch(err => showError(`Javascript Error: ${err.message}<br>This usually means there's a typo in your chart specification. See the javascript console for the full traceback.`));\n",
       "    }\n",
       "\n",
       "    if(typeof define === \"function\" && define.amd) {\n",
       "      requirejs.config({paths});\n",
       "      require([\"vega-embed\"], displayChart, err => showError(`Error loading script: ${err.message}`));\n",
       "    } else {\n",
       "      maybeLoadScript(\"vega\", \"5\")\n",
       "        .then(() => maybeLoadScript(\"vega-lite\", \"5.20.1\"))\n",
       "        .then(() => maybeLoadScript(\"vega-embed\", \"6\"))\n",
       "        .catch(showError)\n",
       "        .then(() => displayChart(vegaEmbed));\n",
       "    }\n",
       "  })({\"config\": {\"view\": {\"continuousWidth\": 300, \"continuousHeight\": 300}}, \"vconcat\": [{\"layer\": [{\"data\": {\"name\": \"data-8f98b1a2fd68076fe3e031f9a6fd0e2c\"}, \"mark\": {\"type\": \"point\", \"filled\": true}, \"encoding\": {\"color\": {\"value\": \"#000000\"}, \"x\": {\"field\": \"vti\", \"scale\": {\"zero\": false}, \"type\": \"quantitative\"}, \"y\": {\"field\": \"vb\", \"scale\": {\"zero\": false}, \"type\": \"quantitative\"}}, \"transform\": [{\"filter\": \"(datum.plot_data_source === 'observed')\"}]}, {\"data\": {\"name\": \"data-8f98b1a2fd68076fe3e031f9a6fd0e2c\"}, \"mark\": {\"type\": \"point\", \"filled\": true}, \"encoding\": {\"color\": {\"value\": \"#f28e2b\"}, \"x\": {\"field\": \"vti\", \"scale\": {\"zero\": false}, \"type\": \"quantitative\"}, \"y\": {\"field\": \"vb\", \"scale\": {\"zero\": false}, \"type\": \"quantitative\"}}, \"transform\": [{\"filter\": \"(datum.plot_data_source === 'synthetic')\"}]}]}, {\"layer\": [{\"data\": {\"name\": \"data-8f98b1a2fd68076fe3e031f9a6fd0e2c\"}, \"mark\": {\"type\": \"point\", \"filled\": true}, \"encoding\": {\"color\": {\"value\": \"#000000\"}, \"x\": {\"field\": \"vb\", \"scale\": {\"zero\": false}, \"type\": \"quantitative\"}, \"y\": {\"field\": \"vti\", \"scale\": {\"zero\": false}, \"type\": \"quantitative\"}}, \"transform\": [{\"filter\": \"(datum.plot_data_source === 'observed')\"}]}, {\"data\": {\"name\": \"data-8f98b1a2fd68076fe3e031f9a6fd0e2c\"}, \"mark\": {\"type\": \"point\", \"filled\": true}, \"encoding\": {\"color\": {\"value\": \"#f28e2b\"}, \"x\": {\"field\": \"vb\", \"scale\": {\"zero\": false}, \"type\": \"quantitative\"}, \"y\": {\"field\": \"vti\", \"scale\": {\"zero\": false}, \"type\": \"quantitative\"}}, \"transform\": [{\"filter\": \"(datum.plot_data_source === 'synthetic')\"}]}]}, {\"layer\": [{\"data\": {\"name\": \"data-574acc3693f6e352c3a398dbefc8d189\"}, \"mark\": {\"type\": \"point\", \"filled\": true}, \"encoding\": {\"color\": {\"value\": \"#000000\"}, \"x\": {\"field\": \"ca\", \"scale\": {\"zero\": false}, \"type\": \"quantitative\"}, \"y\": {\"field\": \"cb\", \"scale\": {\"zero\": false}, \"type\": \"quantitative\"}}, \"transform\": [{\"filter\": \"(datum.plot_data_source === 'observed')\"}]}, {\"data\": {\"name\": \"data-574acc3693f6e352c3a398dbefc8d189\"}, \"mark\": {\"type\": \"point\", \"filled\": true}, \"encoding\": {\"color\": {\"value\": \"#f28e2b\"}, \"x\": {\"field\": \"ca\", \"scale\": {\"zero\": false}, \"type\": \"quantitative\"}, \"y\": {\"field\": \"cb\", \"scale\": {\"zero\": false}, \"type\": \"quantitative\"}}, \"transform\": [{\"filter\": \"(datum.plot_data_source === 'synthetic')\"}]}]}, {\"layer\": [{\"data\": {\"name\": \"data-76c2377f7bdf41a54d4d4c5940f158be\"}, \"mark\": {\"type\": \"point\", \"filled\": true}, \"encoding\": {\"color\": {\"value\": \"#000000\"}, \"x\": {\"field\": \"ca\", \"scale\": {\"zero\": false}, \"type\": \"quantitative\"}, \"y\": {\"field\": \"vb\", \"scale\": {\"zero\": false}, \"type\": \"quantitative\"}}, \"transform\": [{\"filter\": \"(datum.plot_data_source === 'observed')\"}]}, {\"data\": {\"name\": \"data-76c2377f7bdf41a54d4d4c5940f158be\"}, \"mark\": {\"type\": \"point\", \"filled\": true}, \"encoding\": {\"color\": {\"value\": \"#f28e2b\"}, \"x\": {\"field\": \"ca\", \"scale\": {\"zero\": false}, \"type\": \"quantitative\"}, \"y\": {\"field\": \"vb\", \"scale\": {\"zero\": false}, \"type\": \"quantitative\"}}, \"transform\": [{\"filter\": \"(datum.plot_data_source === 'synthetic')\"}]}]}], \"resolve\": {\"scale\": {\"color\": \"independent\"}}, \"title\": \"2-D Marginals\", \"$schema\": \"https://vega.github.io/schema/vega-lite/v5.20.1.json\", \"datasets\": {\"data-8f98b1a2fd68076fe3e031f9a6fd0e2c\": [{\"vb\": 190.040939, \"vti\": 190.048508, \"plot_data_source\": \"observed\"}, {\"vb\": 192.759628, \"vti\": 191.583771, \"plot_data_source\": \"observed\"}, {\"vb\": 198.970963, \"vti\": 193.307281, \"plot_data_source\": \"observed\"}, {\"vb\": 202.255219, \"vti\": 196.407532, \"plot_data_source\": \"observed\"}, {\"vb\": 202.175842, \"vti\": 197.358429, \"plot_data_source\": \"observed\"}, {\"vb\": 202.175842, \"vti\": 196.179733, \"plot_data_source\": \"observed\"}, {\"vb\": 205.19223, \"vti\": 196.873093, \"plot_data_source\": \"observed\"}, {\"vb\": 203.961853, \"vti\": 197.091003, \"plot_data_source\": \"observed\"}, {\"vb\": 206.52179, \"vti\": 196.902817, \"plot_data_source\": \"observed\"}, {\"vb\": 203.763412, \"vti\": 195.189224, \"plot_data_source\": \"observed\"}, {\"vb\": 206.11499, \"vti\": 196.972137, \"plot_data_source\": \"observed\"}, {\"vb\": 207.365189, \"vti\": 199.458298, \"plot_data_source\": \"observed\"}, {\"vb\": 191.25542239329064, \"vti\": 189.7327646541177, \"plot_data_source\": \"synthetic\"}, {\"vb\": 193.97411139329063, \"vti\": 191.2680276541177, \"plot_data_source\": \"synthetic\"}, {\"vb\": 200.18544639329065, \"vti\": 192.99153765411768, \"plot_data_source\": \"synthetic\"}, {\"vb\": 203.46970239329065, \"vti\": 196.0917886541177, \"plot_data_source\": \"synthetic\"}, {\"vb\": 203.39032539329062, \"vti\": 197.0426856541177, \"plot_data_source\": \"synthetic\"}, {\"vb\": 203.39032539329062, \"vti\": 195.8639896541177, \"plot_data_source\": \"synthetic\"}, {\"vb\": 206.40671339329063, \"vti\": 196.5573496541177, \"plot_data_source\": \"synthetic\"}, {\"vb\": 205.17633639329063, \"vti\": 196.7752596541177, \"plot_data_source\": \"synthetic\"}, {\"vb\": 207.73627339329065, \"vti\": 196.5870736541177, \"plot_data_source\": \"synthetic\"}, {\"vb\": 204.97789539329062, \"vti\": 194.87348065411769, \"plot_data_source\": \"synthetic\"}, {\"vb\": 207.32947339329064, \"vti\": 196.6563936541177, \"plot_data_source\": \"synthetic\"}, {\"vb\": 208.57967239329062, \"vti\": 199.1425546541177, \"plot_data_source\": \"synthetic\"}], \"data-574acc3693f6e352c3a398dbefc8d189\": [{\"ca\": 200, \"cb\": 168, \"plot_data_source\": \"observed\"}, {\"ca\": 50, \"cb\": 133, \"plot_data_source\": \"observed\"}, {\"ca\": 247, \"cb\": 171, \"plot_data_source\": \"observed\"}, {\"ca\": 23, \"cb\": 117, \"plot_data_source\": \"observed\"}, {\"ca\": 139, \"cb\": 134, \"plot_data_source\": \"observed\"}, {\"ca\": 166, \"cb\": 132, \"plot_data_source\": \"observed\"}, {\"ca\": 176, \"cb\": 248, \"plot_data_source\": \"observed\"}, {\"ca\": 110, \"cb\": 8, \"plot_data_source\": \"observed\"}, {\"ca\": 168, \"cb\": 161, \"plot_data_source\": \"observed\"}, {\"ca\": 14, \"cb\": 13, \"plot_data_source\": \"observed\"}, {\"ca\": 229, \"cb\": 168, \"plot_data_source\": \"observed\"}, {\"ca\": 207, \"cb\": 133, \"plot_data_source\": \"observed\"}, {\"ca\": 205, \"cb\": 169, \"plot_data_source\": \"synthetic\"}, {\"ca\": 55, \"cb\": 134, \"plot_data_source\": \"synthetic\"}, {\"ca\": 252, \"cb\": 172, \"plot_data_source\": \"synthetic\"}, {\"ca\": 28, \"cb\": 118, \"plot_data_source\": \"synthetic\"}, {\"ca\": 144, \"cb\": 135, \"plot_data_source\": \"synthetic\"}, {\"ca\": 171, \"cb\": 133, \"plot_data_source\": \"synthetic\"}, {\"ca\": 181, \"cb\": 249, \"plot_data_source\": \"synthetic\"}, {\"ca\": 115, \"cb\": 9, \"plot_data_source\": \"synthetic\"}, {\"ca\": 173, \"cb\": 162, \"plot_data_source\": \"synthetic\"}, {\"ca\": 19, \"cb\": 14, \"plot_data_source\": \"synthetic\"}, {\"ca\": 234, \"cb\": 169, \"plot_data_source\": \"synthetic\"}, {\"ca\": 212, \"cb\": 134, \"plot_data_source\": \"synthetic\"}], \"data-76c2377f7bdf41a54d4d4c5940f158be\": [{\"ca\": 200, \"vb\": 190.040939, \"plot_data_source\": \"observed\"}, {\"ca\": 50, \"vb\": 192.759628, \"plot_data_source\": \"observed\"}, {\"ca\": 247, \"vb\": 198.970963, \"plot_data_source\": \"observed\"}, {\"ca\": 23, \"vb\": 202.255219, \"plot_data_source\": \"observed\"}, {\"ca\": 139, \"vb\": 202.175842, \"plot_data_source\": \"observed\"}, {\"ca\": 166, \"vb\": 202.175842, \"plot_data_source\": \"observed\"}, {\"ca\": 176, \"vb\": 205.19223, \"plot_data_source\": \"observed\"}, {\"ca\": 110, \"vb\": 203.961853, \"plot_data_source\": \"observed\"}, {\"ca\": 168, \"vb\": 206.52179, \"plot_data_source\": \"observed\"}, {\"ca\": 14, \"vb\": 203.763412, \"plot_data_source\": \"observed\"}, {\"ca\": 229, \"vb\": 206.11499, \"plot_data_source\": \"observed\"}, {\"ca\": 207, \"vb\": 207.365189, \"plot_data_source\": \"observed\"}, {\"ca\": 205, \"vb\": 191.25542239329064, \"plot_data_source\": \"synthetic\"}, {\"ca\": 55, \"vb\": 193.97411139329063, \"plot_data_source\": \"synthetic\"}, {\"ca\": 252, \"vb\": 200.18544639329065, \"plot_data_source\": \"synthetic\"}, {\"ca\": 28, \"vb\": 203.46970239329065, \"plot_data_source\": \"synthetic\"}, {\"ca\": 144, \"vb\": 203.39032539329062, \"plot_data_source\": \"synthetic\"}, {\"ca\": 171, \"vb\": 203.39032539329062, \"plot_data_source\": \"synthetic\"}, {\"ca\": 181, \"vb\": 206.40671339329063, \"plot_data_source\": \"synthetic\"}, {\"ca\": 115, \"vb\": 205.17633639329063, \"plot_data_source\": \"synthetic\"}, {\"ca\": 173, \"vb\": 207.73627339329065, \"plot_data_source\": \"synthetic\"}, {\"ca\": 19, \"vb\": 204.97789539329062, \"plot_data_source\": \"synthetic\"}, {\"ca\": 234, \"vb\": 207.32947339329064, \"plot_data_source\": \"synthetic\"}, {\"ca\": 212, \"vb\": 208.57967239329062, \"plot_data_source\": \"synthetic\"}]}}, {\"mode\": \"vega-lite\"});\n",
       "</script>"
      ],
      "text/plain": [
       "alt.VConcatChart(...)"
      ]
     },
     "execution_count": 21,
     "metadata": {},
     "output_type": "execute_result"
    }
   ],
   "source": [
    "plot_comparisons_2d_numerical_numerical(odf,sdf,[['vti','vb'],['vb','vti'],['ca','cb'],['ca','vb']])"
   ]
  }
 ],
 "metadata": {
  "kernelspec": {
   "display_name": "Python 3 (ipykernel)",
   "language": "python",
   "name": "python3"
  },
  "language_info": {
   "codemirror_mode": {
    "name": "ipython",
    "version": 3
   },
   "file_extension": ".py",
   "mimetype": "text/x-python",
   "name": "python",
   "nbconvert_exporter": "python",
   "pygments_lexer": "ipython3",
   "version": "3.12.6"
  }
 },
 "nbformat": 4,
 "nbformat_minor": 5
}
