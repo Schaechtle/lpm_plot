{
 "cells": [
  {
   "cell_type": "code",
   "execution_count": 104,
   "id": "761ec4da-d3e2-4024-aa5a-099f49c71536",
   "metadata": {},
   "outputs": [],
   "source": [
    "import polars as pl\n",
    "import altair as alt\n",
    "import random"
   ]
  },
  {
   "cell_type": "code",
   "execution_count": 105,
   "id": "9e8817e4-6432-47d3-b7ac-a1d97e7c251b",
   "metadata": {},
   "outputs": [],
   "source": [
    "eobs = {\n",
    "    \"date\": [\"2021-01-04\",\"2021-01-05\",\"2021-01-06\",\"2021-01-07\",\"2021-01-08\",\"2021-01-11\",\"2021-01-12\",\"2021-01-13\",\"2021-01-14\",\"2021-01-15\",\"2021-01-19\",\"2021-01-20\"],\n",
    "    \"vti\": [190.048508,191.583771,193.307281,196.407532,197.358429,196.179733,196.873093,197.091003,196.902817,195.189224,196.972137,199.458298],\n",
    "    \"vb\": [190.040939,192.759628,198.970963,202.255219,202.175842,202.175842,205.192230,203.961853,206.521790,203.763412,206.114990,207.365189]\n",
    "}\n",
    "esyn = {\n",
    "    \"date\": [\"2021-01-04\",\"2021-01-05\",\"2021-01-06\",\"2021-01-07\",\"2021-01-08\",\"2021-01-11\",\"2021-01-12\",\"2021-01-13\",\"2021-01-14\",\"2021-01-15\",\"2021-01-19\",\"2021-01-20\"],\n",
    "    \"vti\": [190.048508,191.583771,193.307281,196.407532,197.358429,196.179733,196.873093,197.091003,196.902817,195.189224,196.972137,199.458298],\n",
    "    \"vb\": [190.040939,192.759628,198.970963,202.255219,202.175842,202.175842,205.192230,203.961853,206.521790,203.763412,206.114990,207.365189]\n",
    "}\n",
    "odf = pl.DataFrame(eobs)\n",
    "sdf = pl.DataFrame(esyn)\n",
    "sdf = sdf.with_columns(pl.col('vti')+random.uniform(-2,2))\n",
    "sdf = sdf.with_columns(pl.col('vb')+random.uniform(-2,2))"
   ]
  },
  {
   "cell_type": "code",
   "execution_count": 106,
   "id": "c156a2f4-ed04-485e-8479-a383b3195693",
   "metadata": {},
   "outputs": [],
   "source": [
    "COLOR_OBSERVED = \"#000000\"\n",
    "COLOR_SYNTHETIC = \"#f28e2b\""
   ]
  },
  {
   "cell_type": "code",
   "execution_count": 107,
   "id": "6ed1a898-4711-4dbf-b74a-871b89ffabef",
   "metadata": {},
   "outputs": [],
   "source": [
    "def select_axis_endpoints(df: pl.DataFrame,column: str):\n",
    "    dmin = df.select(pl.min(column)).item()\n",
    "    dmax = df.select(pl.max(column)).item()\n",
    "    smin = dmin-((dmax-dmin)*0.1)\n",
    "    smax = dmax+((dmax-dmin)*0.1)\n",
    "    return [smin,smax]"
   ]
  },
  {
   "cell_type": "code",
   "execution_count": 108,
   "id": "e63d176b-8d90-417d-b2ce-b1303936437c",
   "metadata": {},
   "outputs": [],
   "source": [
    "def old_scaled_build_numerical_numerical_chart(df: pl.DataFrame,columns: list,domain: list,range: list,color: str):\n",
    "    return alt.Chart(df.to_pandas()).mark_point(filled=True).encode(\n",
    "        x = alt.X(columns[0]+':Q',scale = alt.Scale(domain=[domain[0],domain[1]])),\n",
    "        y = alt.Y(columns[1]+':Q',scale = alt.Scale(domain=[range[0],range[1]])),\n",
    "        color = alt.ColorValue(color)\n",
    "    )\n",
    "def build_numerical_numerical_chart(df: pl.DataFrame,columns: list,domain: list,range: list,color: str):\n",
    "    return alt.Chart(df.to_pandas()).mark_point(filled=True).encode(\n",
    "        x = alt.X(columns[0]+':Q',scale = alt.Scale(zero=False)),\n",
    "        y = alt.Y(columns[1]+':Q',scale = alt.Scale(zero=False)),\n",
    "        color = alt.ColorValue(color)\n",
    "    )"
   ]
  },
  {
   "cell_type": "code",
   "execution_count": 109,
   "id": "c5a6ac19-e034-4a1b-a0e6-329353ec3596",
   "metadata": {},
   "outputs": [
    {
     "data": {
      "text/html": [
       "\n",
       "<style>\n",
       "  #altair-viz-ced89fd4e262423dbdf87c335c19cd69.vega-embed {\n",
       "    width: 100%;\n",
       "    display: flex;\n",
       "  }\n",
       "\n",
       "  #altair-viz-ced89fd4e262423dbdf87c335c19cd69.vega-embed details,\n",
       "  #altair-viz-ced89fd4e262423dbdf87c335c19cd69.vega-embed details summary {\n",
       "    position: relative;\n",
       "  }\n",
       "</style>\n",
       "<div id=\"altair-viz-ced89fd4e262423dbdf87c335c19cd69\"></div>\n",
       "<script type=\"text/javascript\">\n",
       "  var VEGA_DEBUG = (typeof VEGA_DEBUG == \"undefined\") ? {} : VEGA_DEBUG;\n",
       "  (function(spec, embedOpt){\n",
       "    let outputDiv = document.currentScript.previousElementSibling;\n",
       "    if (outputDiv.id !== \"altair-viz-ced89fd4e262423dbdf87c335c19cd69\") {\n",
       "      outputDiv = document.getElementById(\"altair-viz-ced89fd4e262423dbdf87c335c19cd69\");\n",
       "    }\n",
       "    const paths = {\n",
       "      \"vega\": \"https://cdn.jsdelivr.net/npm/vega@5?noext\",\n",
       "      \"vega-lib\": \"https://cdn.jsdelivr.net/npm/vega-lib?noext\",\n",
       "      \"vega-lite\": \"https://cdn.jsdelivr.net/npm/vega-lite@5.20.1?noext\",\n",
       "      \"vega-embed\": \"https://cdn.jsdelivr.net/npm/vega-embed@6?noext\",\n",
       "    };\n",
       "\n",
       "    function maybeLoadScript(lib, version) {\n",
       "      var key = `${lib.replace(\"-\", \"\")}_version`;\n",
       "      return (VEGA_DEBUG[key] == version) ?\n",
       "        Promise.resolve(paths[lib]) :\n",
       "        new Promise(function(resolve, reject) {\n",
       "          var s = document.createElement('script');\n",
       "          document.getElementsByTagName(\"head\")[0].appendChild(s);\n",
       "          s.async = true;\n",
       "          s.onload = () => {\n",
       "            VEGA_DEBUG[key] = version;\n",
       "            return resolve(paths[lib]);\n",
       "          };\n",
       "          s.onerror = () => reject(`Error loading script: ${paths[lib]}`);\n",
       "          s.src = paths[lib];\n",
       "        });\n",
       "    }\n",
       "\n",
       "    function showError(err) {\n",
       "      outputDiv.innerHTML = `<div class=\"error\" style=\"color:red;\">${err}</div>`;\n",
       "      throw err;\n",
       "    }\n",
       "\n",
       "    function displayChart(vegaEmbed) {\n",
       "      vegaEmbed(outputDiv, spec, embedOpt)\n",
       "        .catch(err => showError(`Javascript Error: ${err.message}<br>This usually means there's a typo in your chart specification. See the javascript console for the full traceback.`));\n",
       "    }\n",
       "\n",
       "    if(typeof define === \"function\" && define.amd) {\n",
       "      requirejs.config({paths});\n",
       "      require([\"vega-embed\"], displayChart, err => showError(`Error loading script: ${err.message}`));\n",
       "    } else {\n",
       "      maybeLoadScript(\"vega\", \"5\")\n",
       "        .then(() => maybeLoadScript(\"vega-lite\", \"5.20.1\"))\n",
       "        .then(() => maybeLoadScript(\"vega-embed\", \"6\"))\n",
       "        .catch(showError)\n",
       "        .then(() => displayChart(vegaEmbed));\n",
       "    }\n",
       "  })({\"config\": {\"view\": {\"continuousWidth\": 300, \"continuousHeight\": 300}}, \"layer\": [{\"data\": {\"name\": \"data-0223a824a6f182e9f91f1e12ea7d404b\"}, \"mark\": {\"type\": \"point\", \"filled\": true}, \"encoding\": {\"color\": {\"value\": \"#000000\"}, \"x\": {\"field\": \"vti\", \"scale\": {\"zero\": false}, \"type\": \"quantitative\"}, \"y\": {\"field\": \"vb\", \"scale\": {\"zero\": false}, \"type\": \"quantitative\"}}, \"transform\": [{\"filter\": \"(datum.plot_data_source === 'observed')\"}]}, {\"data\": {\"name\": \"data-0223a824a6f182e9f91f1e12ea7d404b\"}, \"mark\": {\"type\": \"point\", \"filled\": true}, \"encoding\": {\"color\": {\"value\": \"#f28e2b\"}, \"x\": {\"field\": \"vti\", \"scale\": {\"zero\": false}, \"type\": \"quantitative\"}, \"y\": {\"field\": \"vb\", \"scale\": {\"zero\": false}, \"type\": \"quantitative\"}}, \"transform\": [{\"filter\": \"(datum.plot_data_source === 'synthetic')\"}]}], \"$schema\": \"https://vega.github.io/schema/vega-lite/v5.20.1.json\", \"datasets\": {\"data-0223a824a6f182e9f91f1e12ea7d404b\": [{\"vti\": 190.048508, \"vb\": 190.040939, \"plot_data_source\": \"observed\"}, {\"vti\": 191.583771, \"vb\": 192.759628, \"plot_data_source\": \"observed\"}, {\"vti\": 193.307281, \"vb\": 198.970963, \"plot_data_source\": \"observed\"}, {\"vti\": 196.407532, \"vb\": 202.255219, \"plot_data_source\": \"observed\"}, {\"vti\": 197.358429, \"vb\": 202.175842, \"plot_data_source\": \"observed\"}, {\"vti\": 196.179733, \"vb\": 202.175842, \"plot_data_source\": \"observed\"}, {\"vti\": 196.873093, \"vb\": 205.19223, \"plot_data_source\": \"observed\"}, {\"vti\": 197.091003, \"vb\": 203.961853, \"plot_data_source\": \"observed\"}, {\"vti\": 196.902817, \"vb\": 206.52179, \"plot_data_source\": \"observed\"}, {\"vti\": 195.189224, \"vb\": 203.763412, \"plot_data_source\": \"observed\"}, {\"vti\": 196.972137, \"vb\": 206.11499, \"plot_data_source\": \"observed\"}, {\"vti\": 199.458298, \"vb\": 207.365189, \"plot_data_source\": \"observed\"}, {\"vti\": 188.52293568711497, \"vb\": 189.0708529638758, \"plot_data_source\": \"synthetic\"}, {\"vti\": 190.05819868711498, \"vb\": 191.7895419638758, \"plot_data_source\": \"synthetic\"}, {\"vti\": 191.78170868711496, \"vb\": 198.0008769638758, \"plot_data_source\": \"synthetic\"}, {\"vti\": 194.88195968711497, \"vb\": 201.2851329638758, \"plot_data_source\": \"synthetic\"}, {\"vti\": 195.83285668711497, \"vb\": 201.2057559638758, \"plot_data_source\": \"synthetic\"}, {\"vti\": 194.65416068711497, \"vb\": 201.2057559638758, \"plot_data_source\": \"synthetic\"}, {\"vti\": 195.34752068711498, \"vb\": 204.2221439638758, \"plot_data_source\": \"synthetic\"}, {\"vti\": 195.56543068711497, \"vb\": 202.9917669638758, \"plot_data_source\": \"synthetic\"}, {\"vti\": 195.37724468711497, \"vb\": 205.5517039638758, \"plot_data_source\": \"synthetic\"}, {\"vti\": 193.66365168711496, \"vb\": 202.7933259638758, \"plot_data_source\": \"synthetic\"}, {\"vti\": 195.44656468711497, \"vb\": 205.1449039638758, \"plot_data_source\": \"synthetic\"}, {\"vti\": 197.93272568711498, \"vb\": 206.3951029638758, \"plot_data_source\": \"synthetic\"}]}}, {\"mode\": \"vega-lite\"});\n",
       "</script>"
      ],
      "text/plain": [
       "alt.LayerChart(...)"
      ]
     },
     "execution_count": 109,
     "metadata": {},
     "output_type": "execute_result"
    }
   ],
   "source": [
    "def plot_marginal_2d_numerical_numerical(observed: pl.DataFrame,synthetic: pl.DataFrame,columns: list):\n",
    "    assert len(columns) == 2, \"2d plot requires selection of exactly two columns\"\n",
    "    for c in columns:\n",
    "        assert c in observed.columns, f\"Column '{c}' not in observed data\"\n",
    "        assert c in synthetic.columns, f\"Column '{c}' not in synthetic data\"\n",
    "        \n",
    "    observed = observed[columns].with_columns(pl.lit(\"observed\").alias(\"plot_data_source\"))\n",
    "    synthetic = synthetic[columns].with_columns(pl.lit(\"synthetic\").alias(\"plot_data_source\"))\n",
    "    combined = pl.concat([observed,synthetic])\n",
    "    domain = select_axis_endpoints(combined,columns[0])\n",
    "    range = select_axis_endpoints(combined,columns[1])\n",
    "\n",
    "    oplot = build_numerical_numerical_chart(combined,columns,domain,range,COLOR_OBSERVED).transform_filter(alt.datum.plot_data_source == \"observed\")\n",
    "    splot = build_numerical_numerical_chart(combined,columns,domain,range,COLOR_SYNTHETIC).transform_filter(alt.datum.plot_data_source == \"synthetic\")\n",
    "    return oplot+splot\n",
    "\n",
    "plot_marginal_2d_numerical_numerical(odf,sdf,['vti','vb'])\n"
   ]
  }
 ],
 "metadata": {
  "kernelspec": {
   "display_name": "Python 3 (ipykernel)",
   "language": "python",
   "name": "python3"
  },
  "language_info": {
   "codemirror_mode": {
    "name": "ipython",
    "version": 3
   },
   "file_extension": ".py",
   "mimetype": "text/x-python",
   "name": "python",
   "nbconvert_exporter": "python",
   "pygments_lexer": "ipython3",
   "version": "3.12.6"
  }
 },
 "nbformat": 4,
 "nbformat_minor": 5
}
