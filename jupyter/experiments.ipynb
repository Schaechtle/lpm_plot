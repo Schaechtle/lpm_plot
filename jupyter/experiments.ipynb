{
 "cells": [
  {
   "cell_type": "code",
   "execution_count": 43,
   "id": "761ec4da-d3e2-4024-aa5a-099f49c71536",
   "metadata": {},
   "outputs": [],
   "source": [
    "import polars as pl\n",
    "import altair as alt\n",
    "import random"
   ]
  },
  {
   "cell_type": "code",
   "execution_count": 44,
   "id": "9e8817e4-6432-47d3-b7ac-a1d97e7c251b",
   "metadata": {},
   "outputs": [],
   "source": [
    "eobs = {\n",
    "    \"date\": [\"2021-01-04\",\"2021-01-05\",\"2021-01-06\",\"2021-01-07\",\"2021-01-08\",\"2021-01-11\",\"2021-01-12\",\"2021-01-13\",\"2021-01-14\",\"2021-01-15\",\"2021-01-19\",\"2021-01-20\"],\n",
    "    \"vti\": [190.048508,191.583771,193.307281,196.407532,197.358429,196.179733,196.873093,197.091003,196.902817,195.189224,196.972137,199.458298],\n",
    "    \"vb\": [190.040939,192.759628,198.970963,202.255219,202.175842,202.175842,205.192230,203.961853,206.521790,203.763412,206.114990,207.365189]\n",
    "}\n",
    "esyn = {\n",
    "    \"date\": [\"2021-01-04\",\"2021-01-05\",\"2021-01-06\",\"2021-01-07\",\"2021-01-08\",\"2021-01-11\",\"2021-01-12\",\"2021-01-13\",\"2021-01-14\",\"2021-01-15\",\"2021-01-19\",\"2021-01-20\"],\n",
    "    \"vti\": [190.048508,191.583771,193.307281,196.407532,197.358429,196.179733,196.873093,197.091003,196.902817,195.189224,196.972137,199.458298],\n",
    "    \"vb\": [190.040939,192.759628,198.970963,202.255219,202.175842,202.175842,205.192230,203.961853,206.521790,203.763412,206.114990,207.365189]\n",
    "}\n",
    "odf = pl.DataFrame(eobs)\n",
    "sdf = pl.DataFrame(esyn)\n",
    "sdf = sdf.with_columns(pl.col('vti')+random.uniform(-2,2))\n",
    "sdf = sdf.with_columns(pl.col('vb')+random.uniform(-2,2))"
   ]
  },
  {
   "cell_type": "code",
   "execution_count": 45,
   "id": "6ed1a898-4711-4dbf-b74a-871b89ffabef",
   "metadata": {},
   "outputs": [],
   "source": [
    "def select_axis_endpoints(observed: pl.DataFrame,synthetic: pl.DataFrame,column: str):\n",
    "    assert column in observed, \"Column not in observed data\"\n",
    "    assert column in synthetic, \"Column not in synthetic data\"\n",
    "    omin = observed.select(pl.min(column)).item()\n",
    "    omax = observed.select(pl.max(column)).item()\n",
    "    smin = synthetic.select(pl.min(column)).item()\n",
    "    smax = synthetic.select(pl.max(column)).item()\n",
    "    xmin = omin if omin < smin else smin\n",
    "    xmax = omax if omax > smax else smax\n",
    "    xmin -= (xmax-xmin)*0.1\n",
    "    xmax += (xmax-xmin)*0.1\n",
    "    return [xmin,xmax]"
   ]
  },
  {
   "cell_type": "code",
   "execution_count": 46,
   "id": "c5a6ac19-e034-4a1b-a0e6-329353ec3596",
   "metadata": {},
   "outputs": [
    {
     "data": {
      "text/html": [
       "\n",
       "<style>\n",
       "  #altair-viz-f01975b8b56641108d6d960f997b92dd.vega-embed {\n",
       "    width: 100%;\n",
       "    display: flex;\n",
       "  }\n",
       "\n",
       "  #altair-viz-f01975b8b56641108d6d960f997b92dd.vega-embed details,\n",
       "  #altair-viz-f01975b8b56641108d6d960f997b92dd.vega-embed details summary {\n",
       "    position: relative;\n",
       "  }\n",
       "</style>\n",
       "<div id=\"altair-viz-f01975b8b56641108d6d960f997b92dd\"></div>\n",
       "<script type=\"text/javascript\">\n",
       "  var VEGA_DEBUG = (typeof VEGA_DEBUG == \"undefined\") ? {} : VEGA_DEBUG;\n",
       "  (function(spec, embedOpt){\n",
       "    let outputDiv = document.currentScript.previousElementSibling;\n",
       "    if (outputDiv.id !== \"altair-viz-f01975b8b56641108d6d960f997b92dd\") {\n",
       "      outputDiv = document.getElementById(\"altair-viz-f01975b8b56641108d6d960f997b92dd\");\n",
       "    }\n",
       "    const paths = {\n",
       "      \"vega\": \"https://cdn.jsdelivr.net/npm/vega@5?noext\",\n",
       "      \"vega-lib\": \"https://cdn.jsdelivr.net/npm/vega-lib?noext\",\n",
       "      \"vega-lite\": \"https://cdn.jsdelivr.net/npm/vega-lite@5.20.1?noext\",\n",
       "      \"vega-embed\": \"https://cdn.jsdelivr.net/npm/vega-embed@6?noext\",\n",
       "    };\n",
       "\n",
       "    function maybeLoadScript(lib, version) {\n",
       "      var key = `${lib.replace(\"-\", \"\")}_version`;\n",
       "      return (VEGA_DEBUG[key] == version) ?\n",
       "        Promise.resolve(paths[lib]) :\n",
       "        new Promise(function(resolve, reject) {\n",
       "          var s = document.createElement('script');\n",
       "          document.getElementsByTagName(\"head\")[0].appendChild(s);\n",
       "          s.async = true;\n",
       "          s.onload = () => {\n",
       "            VEGA_DEBUG[key] = version;\n",
       "            return resolve(paths[lib]);\n",
       "          };\n",
       "          s.onerror = () => reject(`Error loading script: ${paths[lib]}`);\n",
       "          s.src = paths[lib];\n",
       "        });\n",
       "    }\n",
       "\n",
       "    function showError(err) {\n",
       "      outputDiv.innerHTML = `<div class=\"error\" style=\"color:red;\">${err}</div>`;\n",
       "      throw err;\n",
       "    }\n",
       "\n",
       "    function displayChart(vegaEmbed) {\n",
       "      vegaEmbed(outputDiv, spec, embedOpt)\n",
       "        .catch(err => showError(`Javascript Error: ${err.message}<br>This usually means there's a typo in your chart specification. See the javascript console for the full traceback.`));\n",
       "    }\n",
       "\n",
       "    if(typeof define === \"function\" && define.amd) {\n",
       "      requirejs.config({paths});\n",
       "      require([\"vega-embed\"], displayChart, err => showError(`Error loading script: ${err.message}`));\n",
       "    } else {\n",
       "      maybeLoadScript(\"vega\", \"5\")\n",
       "        .then(() => maybeLoadScript(\"vega-lite\", \"5.20.1\"))\n",
       "        .then(() => maybeLoadScript(\"vega-embed\", \"6\"))\n",
       "        .catch(showError)\n",
       "        .then(() => displayChart(vegaEmbed));\n",
       "    }\n",
       "  })({\"config\": {\"view\": {\"continuousWidth\": 300, \"continuousHeight\": 300}}, \"layer\": [{\"data\": {\"name\": \"data-4c1b0ea85c6ea8b390303042f925015b\"}, \"mark\": {\"type\": \"point\", \"filled\": true}, \"encoding\": {\"color\": {\"value\": \"#000000\"}, \"x\": {\"field\": \"vti\", \"scale\": {\"domain\": [189.06326886808816, 200.9846623642215]}, \"type\": \"quantitative\"}, \"y\": {\"field\": \"vb\", \"scale\": {\"domain\": [188.30046527321548, 209.27166137267844]}, \"type\": \"quantitative\"}}}, {\"data\": {\"name\": \"data-bc6453d1bfe45fa62f3f8a83abb6fc4c\"}, \"mark\": {\"type\": \"point\", \"filled\": true}, \"encoding\": {\"color\": {\"value\": \"#f28e2b\"}, \"x\": {\"field\": \"vti\", \"scale\": {\"domain\": [189.06326886808816, 200.9846623642215]}, \"type\": \"quantitative\"}, \"y\": {\"field\": \"vb\", \"scale\": {\"domain\": [188.30046527321548, 209.27166137267844]}, \"type\": \"quantitative\"}}}], \"$schema\": \"https://vega.github.io/schema/vega-lite/v5.20.1.json\", \"datasets\": {\"data-4c1b0ea85c6ea8b390303042f925015b\": [{\"date\": \"2021-01-04\", \"vti\": 190.048508, \"vb\": 190.040939}, {\"date\": \"2021-01-05\", \"vti\": 191.583771, \"vb\": 192.759628}, {\"date\": \"2021-01-06\", \"vti\": 193.307281, \"vb\": 198.970963}, {\"date\": \"2021-01-07\", \"vti\": 196.407532, \"vb\": 202.255219}, {\"date\": \"2021-01-08\", \"vti\": 197.358429, \"vb\": 202.175842}, {\"date\": \"2021-01-11\", \"vti\": 196.179733, \"vb\": 202.175842}, {\"date\": \"2021-01-12\", \"vti\": 196.873093, \"vb\": 205.19223}, {\"date\": \"2021-01-13\", \"vti\": 197.091003, \"vb\": 203.961853}, {\"date\": \"2021-01-14\", \"vti\": 196.902817, \"vb\": 206.52179}, {\"date\": \"2021-01-15\", \"vti\": 195.189224, \"vb\": 203.763412}, {\"date\": \"2021-01-19\", \"vti\": 196.972137, \"vb\": 206.11499}, {\"date\": \"2021-01-20\", \"vti\": 199.458298, \"vb\": 207.365189}], \"data-bc6453d1bfe45fa62f3f8a83abb6fc4c\": [{\"date\": \"2021-01-04\", \"vti\": 190.49110931911844, \"vb\": 190.03362197565045}, {\"date\": \"2021-01-05\", \"vti\": 192.02637231911845, \"vb\": 192.75231097565043}, {\"date\": \"2021-01-06\", \"vti\": 193.74988231911843, \"vb\": 198.96364597565045}, {\"date\": \"2021-01-07\", \"vti\": 196.85013331911844, \"vb\": 202.24790197565045}, {\"date\": \"2021-01-08\", \"vti\": 197.80103031911844, \"vb\": 202.16852497565043}, {\"date\": \"2021-01-11\", \"vti\": 196.62233431911844, \"vb\": 202.16852497565043}, {\"date\": \"2021-01-12\", \"vti\": 197.31569431911845, \"vb\": 205.18491297565043}, {\"date\": \"2021-01-13\", \"vti\": 197.53360431911844, \"vb\": 203.95453597565043}, {\"date\": \"2021-01-14\", \"vti\": 197.34541831911844, \"vb\": 206.51447297565045}, {\"date\": \"2021-01-15\", \"vti\": 195.63182531911843, \"vb\": 203.75609497565043}, {\"date\": \"2021-01-19\", \"vti\": 197.41473831911844, \"vb\": 206.10767297565044}, {\"date\": \"2021-01-20\", \"vti\": 199.90089931911845, \"vb\": 207.35787197565043}]}}, {\"mode\": \"vega-lite\"});\n",
       "</script>"
      ],
      "text/plain": [
       "alt.LayerChart(...)"
      ]
     },
     "execution_count": 46,
     "metadata": {},
     "output_type": "execute_result"
    }
   ],
   "source": [
    "def plot_marginal_2d_numerical_numerical(observed: pl.DataFrame,synthetic: pl.DataFrame,col1: str,col2: str):\n",
    "    xmin,xmax = select_axis_endpoints(observed,synthetic,col1)\n",
    "    ymin,ymax = select_axis_endpoints(observed,synthetic,col2)\n",
    "    \n",
    "    odf = observed.to_pandas()\n",
    "    oplot = alt.Chart(odf).mark_point(filled=True).encode(\n",
    "        x = alt.X(col1+':Q',scale = alt.Scale(domain=[xmin,xmax])),\n",
    "        y = alt.Y(col2+':Q',scale = alt.Scale(domain=[ymin,ymax])),\n",
    "        color = alt.ColorValue(\"#000000\")\n",
    "    )\n",
    "    \n",
    "    sdf = synthetic.to_pandas()\n",
    "    splot = alt.Chart(sdf).mark_point(filled=True).encode(\n",
    "        x = alt.X(col1+':Q',scale = alt.Scale(domain=[xmin,xmax])),\n",
    "        y = alt.Y(col2+':Q',scale = alt.Scale(domain=[ymin,ymax])),\n",
    "        color = alt.ColorValue(\"#f28e2b\")\n",
    "    )\n",
    "    return oplot+splot\n",
    "\n",
    "plot_marginal_2d_numerical_numerical(odf,sdf,'vti','vb')\n"
   ]
  },
  {
   "cell_type": "code",
   "execution_count": null,
   "id": "3187ebde-ca7e-4413-aae6-3cc1077c3b3b",
   "metadata": {},
   "outputs": [],
   "source": []
  },
  {
   "cell_type": "code",
   "execution_count": null,
   "id": "31c3004a-e825-4593-8683-4cdea7f7c1a6",
   "metadata": {},
   "outputs": [],
   "source": []
  }
 ],
 "metadata": {
  "kernelspec": {
   "display_name": "Python 3 (ipykernel)",
   "language": "python",
   "name": "python3"
  },
  "language_info": {
   "codemirror_mode": {
    "name": "ipython",
    "version": 3
   },
   "file_extension": ".py",
   "mimetype": "text/x-python",
   "name": "python",
   "nbconvert_exporter": "python",
   "pygments_lexer": "ipython3",
   "version": "3.12.6"
  }
 },
 "nbformat": 4,
 "nbformat_minor": 5
}
